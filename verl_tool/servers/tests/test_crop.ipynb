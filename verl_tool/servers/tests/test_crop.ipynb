{
 "cells": [
  {
   "cell_type": "code",
   "execution_count": 1,
   "metadata": {},
   "outputs": [],
   "source": [
    "#!/usr/bin/env python\n",
    "import json\n",
    "import requests\n",
    "import fire\n",
    "import logging\n",
    "import sys\n",
    "import os\n",
    "import io\n",
    "import base64\n",
    "from PIL import Image\n",
    "# Add parent directory to path to import PistonTool\n",
    "# sys.path.append(os.path.dirname(os.path.dirname(os.path.abspath(__file__))))\n",
    "\n",
    "\n",
    "logging.basicConfig(level=logging.INFO, format='%(asctime)s - %(levelname)s - %(message)s')\n",
    "logger = logging.getLogger(__name__)\n",
    "def encode_image(img):\n",
    "    buffered = io.BytesIO()\n",
    "    img.save(buffered, format=\"JPEG\")\n",
    "    img_str = base64.b64encode(buffered.getvalue()).decode()\n",
    "    return img_str\n",
    "\n",
    "# Create JSON with the encoded image\n",
    "def decode_image(img_str):\n",
    "    img_data = base64.b64decode(img_str)\n",
    "    img = Image.open(io.BytesIO(img_data))\n",
    "    return img\n"
   ]
  },
  {
   "cell_type": "code",
   "execution_count": 2,
   "metadata": {},
   "outputs": [],
   "source": [
    "def _send_test_request(url, trajectory_id, action, extra_field, test_name):\n",
    "    \"\"\"Helper function to send test requests and process responses\"\"\"\n",
    "    logger.info(f\"Testing {test_name} code execution...\")\n",
    "    \n",
    "    # Use server API\n",
    "    payload = {\n",
    "        \"trajectory_ids\": [trajectory_id],\n",
    "        \"actions\": [action],\n",
    "        \"extra_fields\": [extra_field]\n",
    "    }\n",
    "    \n",
    "    try:\n",
    "        response = requests.post(url, json=payload)\n",
    "        response.raise_for_status()  # Raise exception for error status codes\n",
    "        \n",
    "        result = response.json()\n",
    "        logger.info(f\"Response received for {test_name} test\")\n",
    "        \n",
    "        # Print observation\n",
    "        if \"observations\" in result and len(result[\"observations\"]) > 0:\n",
    "            observation = result[\"observations\"][0]\n",
    "            logger.info(f\"\\n--- {test_name} Result ---\\n{observation}\\n\")\n",
    "        else:\n",
    "            logger.error(f\"No observation found in response for {test_name}\")\n",
    "        \n",
    "        return response\n",
    "    except requests.exceptions.RequestException as e:\n",
    "        logger.error(f\"Request error: {str(e)}\")\n",
    "        return {\"error\": str(e)}\n",
    "    except Exception as e:\n",
    "        logger.error(f\"Unexpected error: {str(e)}\")\n",
    "        return {\"error\": str(e)}\n"
   ]
  },
  {
   "cell_type": "code",
   "execution_count": 3,
   "metadata": {},
   "outputs": [],
   "source": [
    "def test_crop(\n",
    "    url: str = None,\n",
    "    trajectory_id: str = \"test-crop-001\",\n",
    "):\n",
    "    \"\"\"Test Python code execution\"\"\"\n",
    "    \n",
    "    print(\"--- Testing 1 ---\")\n",
    "    image1 = encode_image(Image.open(\"/home/ma-user/work/haozhe/muze/traj/Qwen_392_t1_nop_sa1b/checkpoint-100_VStar/0/0.jpg\"))\n",
    "\n",
    "    action = \"\"\"<tool_call>{\"tool_name\": \"crop_image\", \"arguments\": {\"target_image\": 1, \"bbox_2d\": [0, 0, 100, 100]}}</tool_call>\"\"\"\n",
    "    response=(_send_test_request(url, trajectory_id, action, {\"image\": image1}, \"crop\"))\n",
    "    \n",
    "    # print(\"--- Testing 2 ---\")\n",
    "    # action = \"\"\"<python>import sys\\n\\nprint('Hello from Python!')\\nprint(f'Arguments: {sys.argv[1:]}')\\nfor i in range(5):\\n    print(f'Number {i}')</python> ...\"\"\"\n",
    "    # print(_send_test_request(url, trajectory_id, action, \"Python\"))\n",
    "    \n",
    "    # print(\"--- Testing 3 ---\")\n",
    "    # action = \"\"\"```python\\nprint('Hello from Python!')\\n``` ...\"\"\"\n",
    "    # print(_send_test_request(url, trajectory_id, action, \"Python\"))\n",
    "    \n",
    "    # print(\"--- Testing 4 ---\")\n",
    "    # action = \"\"\"```<python>\\nprint('Hello from Python!')</python> ... <python>print('Hello again!')</python>``` ...\"\"\"\n",
    "    # print(_send_test_request(url, trajectory_id, action, \"Python\"))\n",
    "    \n",
    "    # print(\"--- Testing 5 ---\")\n",
    "    # action = \"\"\"```<python>import time\\ntime.sleep(30)\\nprint('Hello from Python!')</python> ... <python>print('Hello again!')</python>``` ...\"\"\"\n",
    "    # print(_send_test_request(url, trajectory_id, action, \"Python\"))\n",
    "    \n",
    "    # print(\"--- Testing 6 ---\") # syntax error\n",
    "    # action = \"\"\"```<python>prnit('Hello from Python!')</python> ...\"\"\"\n",
    "    # print(_send_test_request(url, trajectory_id, action, \"Python\"))\n",
    "    \n",
    "    return response"
   ]
  },
  {
   "cell_type": "code",
   "execution_count": 6,
   "metadata": {},
   "outputs": [
    {
     "name": "stderr",
     "output_type": "stream",
     "text": [
      "2025-06-09 10:34:06,974 - INFO - Testing crop code execution...\n",
      "2025-06-09 10:34:06,995 - INFO - Response received for crop test\n",
      "2025-06-09 10:34:06,996 - INFO - \n",
      "--- crop Result ---\n",
      "{'text': 'Here is the cropped image.<|vision_start|><|image_pad|><|vision_end|>', 'image': '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'}\n",
      "\n"
     ]
    },
    {
     "name": "stdout",
     "output_type": "stream",
     "text": [
      "--- Testing 1 ---\n"
     ]
    }
   ],
   "source": [
    "response=test_crop(url=\"http://127.0.0.1:31400/get_observation\")\n",
    "jsondata = response.json"
   ]
  },
  {
   "cell_type": "code",
   "execution_count": 9,
   "metadata": {},
   "outputs": [
    {
     "data": {
      "text/plain": [
       "{'observations': [{'text': 'Here is the cropped image.<|vision_start|><|image_pad|><|vision_end|>',\n",
       "   'image': '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'}],\n",
       " 'dones': [False],\n",
       " 'valids': [True]}"
      ]
     },
     "execution_count": 9,
     "metadata": {},
     "output_type": "execute_result"
    },
    {
     "ename": "",
     "evalue": "",
     "output_type": "error",
     "traceback": [
      "\u001b[1;31m在当前单元格或上一个单元格中执行代码时 Kernel 崩溃。\n",
      "\u001b[1;31m请查看单元格中的代码，以确定故障的可能原因。\n",
      "\u001b[1;31m单击<a href='https://aka.ms/vscodeJupyterKernelCrash'>此处</a>了解详细信息。\n",
      "\u001b[1;31m有关更多详细信息，请查看 Jupyter <a href='command:jupyter.viewOutput'>log</a>。"
     ]
    }
   ],
   "source": [
    "response.json()"
   ]
  }
 ],
 "metadata": {
  "kernelspec": {
   "display_name": "logic",
   "language": "python",
   "name": "python3"
  },
  "language_info": {
   "codemirror_mode": {
    "name": "ipython",
    "version": 3
   },
   "file_extension": ".py",
   "mimetype": "text/x-python",
   "name": "python",
   "nbconvert_exporter": "python",
   "pygments_lexer": "ipython3",
   "version": "3.10.16"
  }
 },
 "nbformat": 4,
 "nbformat_minor": 2
}
